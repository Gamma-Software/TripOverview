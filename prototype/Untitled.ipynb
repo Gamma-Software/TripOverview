{
 "cells": [
  {
   "cell_type": "code",
   "execution_count": 25,
   "source": [
    "from datetime import datetime, timedelta\n",
    "\n",
    "# Using current time\n",
    "date1 = datetime(2021, 10, 11, 21)\n",
    "date2 = datetime(2021, 10, 11, 9)\n",
    "  \n",
    "print((date1 - date2).seconds > 43200)\n"
   ],
   "outputs": [
    {
     "output_type": "stream",
     "name": "stdout",
     "text": [
      "False\n"
     ]
    }
   ],
   "metadata": {}
  },
  {
   "cell_type": "code",
   "execution_count": 27,
   "source": [
    "import pandas as pd\n",
    "import timeit\n",
    "\n",
    "df = pd.DataFrame({\"latitude\": [0.1, 0.2], \"longitude\": [0.11, 0.22], \"speed\": [0, 1]})\n",
    "print(df)\n",
    "print(tuple(df.tail(1)[[\"latitude\", \"longitude\"]].iloc[0].values.tolist()))\n",
    "print(df[[\"latitude\", \"longitude\"]].iloc[-1].tolist())\n",
    "\n",
    "print(timeit.timeit(lambda: tuple(df.tail(1)[[\"latitude\", \"longitude\"]].iloc[0].values.tolist()), number=100))\n",
    "print(timeit.timeit(lambda: df[[\"latitude\", \"longitude\"]].iloc[-1].tolist(), number=100))"
   ],
   "outputs": [
    {
     "output_type": "stream",
     "name": "stdout",
     "text": [
      "   latitude  longitude  speed\n",
      "0       0.1       0.11      0\n",
      "1       0.2       0.22      1\n",
      "(0.2, 0.22)\n",
      "[0.2, 0.22]\n",
      "0.09907718503382057\n",
      "0.08273307792842388\n"
     ]
    }
   ],
   "metadata": {}
  },
  {
   "cell_type": "code",
   "execution_count": null,
   "source": [
    "features = []\n",
    "insert_features = lambda x: features.append(\n",
    "    geojson.Feature(geometry=geojson.LineString((x[\"lat\"],\n",
    "                                                 x[\"lon\"],\n",
    "                                                 x[\"elev\"])),\n",
    "                    properties=dict(times=x[\"timestamp\"],\n",
    "                                    style={'color': '#d6604d'},\n",
    "                                    icon='circle',\n",
    "                                    iconstyle={\n",
    "                                        'fillColor': '#d6604d',\n",
    "                                        'fillOpacity': 0.8,\n",
    "                                        'stroke': 'true',\n",
    "                                        'radius': 7\n",
    "                                    })))\n",
    "df.apply(insert_features, axis=1)\n",
    "geojson.FeatureCollection(features)"
   ],
   "outputs": [],
   "metadata": {}
  }
 ],
 "metadata": {
  "kernelspec": {
   "name": "python3",
   "display_name": "Python 3.8.10 64-bit ('.venv': venv)"
  },
  "language_info": {
   "codemirror_mode": {
    "name": "ipython",
    "version": 3
   },
   "file_extension": ".py",
   "mimetype": "text/x-python",
   "name": "python",
   "nbconvert_exporter": "python",
   "pygments_lexer": "ipython3",
   "version": "3.8.10"
  },
  "interpreter": {
   "hash": "0c8b0e6fbe608024e5fa1d61a196c91f82823bf0666e9c385e8f10ca03201c27"
  }
 },
 "nbformat": 4,
 "nbformat_minor": 5
}