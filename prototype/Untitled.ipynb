{
 "cells": [
  {
   "cell_type": "code",
   "execution_count": 3,
   "id": "87ff4541",
   "metadata": {},
   "outputs": [
    {
     "ename": "ModuleNotFoundError",
     "evalue": "No module named 'src'",
     "output_type": "error",
     "traceback": [
      "\u001b[1;31m---------------------------------------------------------------------------\u001b[0m",
      "\u001b[1;31mModuleNotFoundError\u001b[0m                       Traceback (most recent call last)",
      "\u001b[1;32m<ipython-input-3-be78ba3016e5>\u001b[0m in \u001b[0;36m<module>\u001b[1;34m\u001b[0m\n\u001b[1;32m----> 1\u001b[1;33m \u001b[1;32mimport\u001b[0m \u001b[0msrc\u001b[0m\u001b[1;33m.\u001b[0m\u001b[0moverview\u001b[0m\u001b[1;33m.\u001b[0m\u001b[0mTimestampGeoJsonWrapper\u001b[0m\u001b[1;33m\u001b[0m\u001b[1;33m\u001b[0m\u001b[0m\n\u001b[0m",
      "\u001b[1;31mModuleNotFoundError\u001b[0m: No module named 'src'"
     ]
    }
   ],
   "source": [
    "import pandas as pd"
   ]
  },
  {
   "cell_type": "code",
   "execution_count": null,
   "id": "41903dab",
   "metadata": {},
   "outputs": [],
   "source": [
    "df = pd.DataFrame()"
   ]
  },
  {
   "cell_type": "code",
   "execution_count": null,
   "id": "25513db8",
   "metadata": {},
   "outputs": [],
   "source": [
    "features = []\n",
    "insert_features = lambda x: features.append(\n",
    "    geojson.Feature(geometry=geojson.LineString((x[\"lat\"],\n",
    "                                                 x[\"lon\"],\n",
    "                                                 x[\"elev\"])),\n",
    "                    properties=dict(times=x[\"timestamp\"],\n",
    "                                    style={'color': '#d6604d'},\n",
    "                                    icon='circle',\n",
    "                                    iconstyle={\n",
    "                                        'fillColor': '#d6604d',\n",
    "                                        'fillOpacity': 0.8,\n",
    "                                        'stroke': 'true',\n",
    "                                        'radius': 7\n",
    "                                    })))\n",
    "df.apply(insert_features, axis=1)\n",
    "geojson.FeatureCollection(features)"
   ]
  }
 ],
 "metadata": {
  "kernelspec": {
   "display_name": "Python 3",
   "language": "python",
   "name": "python3"
  },
  "language_info": {
   "codemirror_mode": {
    "name": "ipython",
    "version": 3
   },
   "file_extension": ".py",
   "mimetype": "text/x-python",
   "name": "python",
   "nbconvert_exporter": "python",
   "pygments_lexer": "ipython3",
   "version": "3.7.9"
  }
 },
 "nbformat": 4,
 "nbformat_minor": 5
}
