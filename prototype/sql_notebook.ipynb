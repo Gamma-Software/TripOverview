{
 "cells": [
  {
   "cell_type": "code",
   "execution_count": 35,
   "id": "e0ac8099",
   "metadata": {},
   "outputs": [
    {
     "name": "stdout",
     "output_type": "stream",
     "text": [
      "2.6.0\n"
     ]
    }
   ],
   "source": [
    "import sqlite3\n",
    "from sqlite3 import Error\n",
    "\n",
    "\n",
    "def create_connection(db_file):\n",
    "    \"\"\" create a database connection to a SQLite database \"\"\"\n",
    "    conn = None\n",
    "    try:\n",
    "        conn = sqlite3.connect(db_file)\n",
    "        print(sqlite3.version)\n",
    "    except Error as e:\n",
    "        print(e)\n",
    "    return conn\n",
    "\n",
    "\n",
    "if __name__ == '__main__':\n",
    "    connection = create_connection(r\"D:\\sources\\perso\\TripOverview\\prototype\\data\\pythonsqlite.db\")"
   ]
  },
  {
   "cell_type": "code",
   "execution_count": 39,
   "id": "3cb48c41",
   "metadata": {},
   "outputs": [],
   "source": [
    "def execute_query(connection, query, data=None):\n",
    "    cursor = connection.cursor()\n",
    "    try:\n",
    "        if data != None:\n",
    "            cursor.execute(query, data)\n",
    "        else:\n",
    "            cursor.execute(query)\n",
    "        connection.commit()\n",
    "        print(\"Query executed successfully\")\n",
    "    except Error as e:\n",
    "        print(f\"The error '{e}' occurred\")"
   ]
  },
  {
   "cell_type": "code",
   "execution_count": 40,
   "id": "52b27087",
   "metadata": {},
   "outputs": [
    {
     "name": "stdout",
     "output_type": "stream",
     "text": [
      "Query executed successfully\n"
     ]
    }
   ],
   "source": [
    "create_users_table = \"\"\"\n",
    "CREATE TABLE IF NOT EXISTS trip_geo (\n",
    "  timestamp INTEGER PRIMARY KEY,\n",
    "  lat FLOAT LATITUDE,\n",
    "  lon FLOAT LONGITUDE\n",
    ");\n",
    "\"\"\"\n",
    "execute_query(connection, create_users_table)"
   ]
  },
  {
   "cell_type": "code",
   "execution_count": 43,
   "id": "7dc7fa9e",
   "metadata": {},
   "outputs": [
    {
     "name": "stdout",
     "output_type": "stream",
     "text": [
      "Query executed successfully\n"
     ]
    }
   ],
   "source": [
    "insert_stmt = (\n",
    "  \"INSERT INTO trip_geo (timestamp, lat, lon) \"\n",
    "  \"VALUES (?, ?, ?)\"\n",
    ")\n",
    "data = (1200, 45.0, 35.0)\n",
    "execute_query(connection, insert_stmt, data)"
   ]
  },
  {
   "cell_type": "code",
   "execution_count": 23,
   "id": "9d2abb5e",
   "metadata": {},
   "outputs": [],
   "source": [
    "val = [(timestamp, 45.0*timestamp/1600000, 35.0*timestamp/1600000) for timestamp in range(1700002, 1700002+1000000)]\n",
    "values = ', '.join(map(str, val))\n",
    "sql = \"\"\"INSERT INTO trip_geo (timestamp, lat, lon) VALUES (?, ?, ?) \"\"\"\n",
    "cursor = connection.cursor()\n",
    "cursor.executemany(sql, val)\n",
    "connection.commit()"
   ]
  },
  {
   "cell_type": "code",
   "execution_count": 44,
   "id": "ec8a3560",
   "metadata": {},
   "outputs": [],
   "source": [
    "connection.close()"
   ]
  },
  {
   "cell_type": "code",
   "execution_count": null,
   "id": "e3cc001d",
   "metadata": {},
   "outputs": [],
   "source": []
  }
 ],
 "metadata": {
  "kernelspec": {
   "display_name": "Python 3",
   "language": "python",
   "name": "python3"
  },
  "language_info": {
   "codemirror_mode": {
    "name": "ipython",
    "version": 3
   },
   "file_extension": ".py",
   "mimetype": "text/x-python",
   "name": "python",
   "nbconvert_exporter": "python",
   "pygments_lexer": "ipython3",
   "version": "3.7.9"
  }
 },
 "nbformat": 4,
 "nbformat_minor": 5
}
