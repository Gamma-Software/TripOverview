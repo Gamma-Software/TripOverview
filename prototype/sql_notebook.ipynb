{
 "cells": [
  {
   "cell_type": "code",
   "execution_count": 63,
   "id": "e0ac8099",
   "metadata": {},
   "outputs": [
    {
     "name": "stdout",
     "output_type": "stream",
     "text": [
      "2.6.0\n"
     ]
    }
   ],
   "source": [
    "import sqlite3\n",
    "from sqlite3 import Error\n",
    "\n",
    "\n",
    "def create_connection(db_file):\n",
    "    \"\"\" create a database connection to a SQLite database \"\"\"\n",
    "    conn = None\n",
    "    try:\n",
    "        conn = sqlite3.connect(db_file)\n",
    "        print(sqlite3.version)\n",
    "    except Error as e:\n",
    "        print(e)\n",
    "    return conn\n",
    "\n",
    "\n",
    "if __name__ == '__main__':\n",
    "    connection = create_connection(r\"D:\\sources\\perso\\TripOverview\\prototype\\data\\pythonsqlite.db\")"
   ]
  },
  {
   "cell_type": "code",
   "execution_count": 39,
   "id": "12ac5540",
   "metadata": {},
   "outputs": [],
   "source": [
    "def execute_query(connection, query, data=None):\n",
    "    cursor = connection.cursor()\n",
    "    try:\n",
    "        if data != None:\n",
    "            cursor.execute(query, data)\n",
    "        else:\n",
    "            cursor.execute(query)\n",
    "        connection.commit()\n",
    "        print(\"Query executed successfully\")\n",
    "    except Error as e:\n",
    "        print(f\"The error '{e}' occurred\")"
   ]
  },
  {
   "cell_type": "code",
   "execution_count": 64,
   "id": "52b27087",
   "metadata": {},
   "outputs": [
    {
     "name": "stdout",
     "output_type": "stream",
     "text": [
      "Query executed successfully\n"
     ]
    }
   ],
   "source": [
    "create_users_table = \"\"\"\n",
    "CREATE TABLE IF NOT EXISTS trip_geo (\n",
    "  timestamp INTEGER PRIMARY KEY,\n",
    "  lat FLOAT LATITUDE,\n",
    "  lon FLOAT LONGITUDE,\n",
    "  elev FLOAT ELEVATION\n",
    ");\n",
    "\"\"\"\n",
    "execute_query(connection, create_users_table)"
   ]
  },
  {
   "cell_type": "code",
   "execution_count": 43,
   "id": "7dc7fa9e",
   "metadata": {},
   "outputs": [
    {
     "name": "stdout",
     "output_type": "stream",
     "text": [
      "Query executed successfully\n"
     ]
    }
   ],
   "source": [
    "insert_stmt = (\n",
    "  \"INSERT INTO trip_geo (timestamp, lat, lon) \"\n",
    "  \"VALUES (?, ?, ?)\"\n",
    ")\n",
    "data = (1200, 45.0, 35.0)\n",
    "execute_query(connection, insert_stmt, data)"
   ]
  },
  {
   "cell_type": "code",
   "execution_count": 65,
   "id": "d7b6ffee",
   "metadata": {},
   "outputs": [],
   "source": [
    "val = [(timestamp, 45.0*timestamp/1600000, 35.0*timestamp/1600000, 1000) for timestamp in range(1700002, 1700002+1000000)]\n",
    "values = ', '.join(map(str, val))\n",
    "sql = \"\"\"INSERT INTO trip_geo (timestamp, lat, lon, elev) VALUES (?, ?, ?, ?) \"\"\"\n",
    "cursor = connection.cursor()\n",
    "cursor.executemany(sql, val)\n",
    "connection.commit()"
   ]
  },
  {
   "cell_type": "code",
   "execution_count": 47,
   "id": "19aea12f",
   "metadata": {},
   "outputs": [],
   "source": [
    "def execute_read_query(connection, query):\n",
    "    cursor = connection.cursor()\n",
    "    result = None\n",
    "    try:\n",
    "        cursor.execute(query)\n",
    "        result = cursor.fetchall()\n",
    "        return result\n",
    "    except Error as e:\n",
    "        print(f\"The error '{e}' occurred\")"
   ]
  },
  {
   "cell_type": "code",
   "execution_count": 66,
   "id": "62e5e01b",
   "metadata": {},
   "outputs": [
    {
     "name": "stdout",
     "output_type": "stream",
     "text": [
      "1000000\n"
     ]
    }
   ],
   "source": [
    "select_users = \"SELECT * from trip_geo\"\n",
    "users = execute_read_query(connection, select_users)\n",
    "print(len(users))"
   ]
  },
  {
   "cell_type": "code",
   "execution_count": 62,
   "id": "2d8ba718",
   "metadata": {},
   "outputs": [],
   "source": [
    "connection.close()"
   ]
  },
  {
   "cell_type": "code",
   "execution_count": 71,
   "id": "14e92d9e",
   "metadata": {},
   "outputs": [
    {
     "data": {
      "text/html": [
       "<div>\n",
       "<style scoped>\n",
       "    .dataframe tbody tr th:only-of-type {\n",
       "        vertical-align: middle;\n",
       "    }\n",
       "\n",
       "    .dataframe tbody tr th {\n",
       "        vertical-align: top;\n",
       "    }\n",
       "\n",
       "    .dataframe thead th {\n",
       "        text-align: right;\n",
       "    }\n",
       "</style>\n",
       "<table border=\"1\" class=\"dataframe\">\n",
       "  <thead>\n",
       "    <tr style=\"text-align: right;\">\n",
       "      <th></th>\n",
       "      <th>timestamp</th>\n",
       "      <th>lat</th>\n",
       "      <th>lon</th>\n",
       "      <th>elev</th>\n",
       "    </tr>\n",
       "  </thead>\n",
       "  <tbody>\n",
       "    <tr>\n",
       "      <th>0</th>\n",
       "      <td>1700002</td>\n",
       "      <td>47.812556</td>\n",
       "      <td>37.187544</td>\n",
       "      <td>1000.0</td>\n",
       "    </tr>\n",
       "    <tr>\n",
       "      <th>1</th>\n",
       "      <td>1700003</td>\n",
       "      <td>47.812584</td>\n",
       "      <td>37.187566</td>\n",
       "      <td>1000.0</td>\n",
       "    </tr>\n",
       "    <tr>\n",
       "      <th>2</th>\n",
       "      <td>1700004</td>\n",
       "      <td>47.812613</td>\n",
       "      <td>37.187587</td>\n",
       "      <td>1000.0</td>\n",
       "    </tr>\n",
       "    <tr>\n",
       "      <th>3</th>\n",
       "      <td>1700005</td>\n",
       "      <td>47.812641</td>\n",
       "      <td>37.187609</td>\n",
       "      <td>1000.0</td>\n",
       "    </tr>\n",
       "    <tr>\n",
       "      <th>4</th>\n",
       "      <td>1700006</td>\n",
       "      <td>47.812669</td>\n",
       "      <td>37.187631</td>\n",
       "      <td>1000.0</td>\n",
       "    </tr>\n",
       "    <tr>\n",
       "      <th>...</th>\n",
       "      <td>...</td>\n",
       "      <td>...</td>\n",
       "      <td>...</td>\n",
       "      <td>...</td>\n",
       "    </tr>\n",
       "    <tr>\n",
       "      <th>999995</th>\n",
       "      <td>2699997</td>\n",
       "      <td>75.937416</td>\n",
       "      <td>59.062434</td>\n",
       "      <td>1000.0</td>\n",
       "    </tr>\n",
       "    <tr>\n",
       "      <th>999996</th>\n",
       "      <td>2699998</td>\n",
       "      <td>75.937444</td>\n",
       "      <td>59.062456</td>\n",
       "      <td>1000.0</td>\n",
       "    </tr>\n",
       "    <tr>\n",
       "      <th>999997</th>\n",
       "      <td>2699999</td>\n",
       "      <td>75.937472</td>\n",
       "      <td>59.062478</td>\n",
       "      <td>1000.0</td>\n",
       "    </tr>\n",
       "    <tr>\n",
       "      <th>999998</th>\n",
       "      <td>2700000</td>\n",
       "      <td>75.937500</td>\n",
       "      <td>59.062500</td>\n",
       "      <td>1000.0</td>\n",
       "    </tr>\n",
       "    <tr>\n",
       "      <th>999999</th>\n",
       "      <td>2700001</td>\n",
       "      <td>75.937528</td>\n",
       "      <td>59.062522</td>\n",
       "      <td>1000.0</td>\n",
       "    </tr>\n",
       "  </tbody>\n",
       "</table>\n",
       "<p>1000000 rows × 4 columns</p>\n",
       "</div>"
      ],
      "text/plain": [
       "        timestamp        lat        lon    elev\n",
       "0         1700002  47.812556  37.187544  1000.0\n",
       "1         1700003  47.812584  37.187566  1000.0\n",
       "2         1700004  47.812613  37.187587  1000.0\n",
       "3         1700005  47.812641  37.187609  1000.0\n",
       "4         1700006  47.812669  37.187631  1000.0\n",
       "...           ...        ...        ...     ...\n",
       "999995    2699997  75.937416  59.062434  1000.0\n",
       "999996    2699998  75.937444  59.062456  1000.0\n",
       "999997    2699999  75.937472  59.062478  1000.0\n",
       "999998    2700000  75.937500  59.062500  1000.0\n",
       "999999    2700001  75.937528  59.062522  1000.0\n",
       "\n",
       "[1000000 rows x 4 columns]"
      ]
     },
     "execution_count": 71,
     "metadata": {},
     "output_type": "execute_result"
    }
   ],
   "source": [
    "import pandas as pd\n",
    "sql_query = pd.read_sql_query('''SELECT * from trip_geo''', connection)\n",
    "sql_query"
   ]
  },
  {
   "cell_type": "code",
   "execution_count": 85,
   "id": "97e77934",
   "metadata": {},
   "outputs": [
    {
     "name": "stderr",
     "output_type": "stream",
     "text": [
      "IOPub data rate exceeded.\n",
      "The notebook server will temporarily stop sending output\n",
      "to the client in order to avoid crashing it.\n",
      "To change this limit, set the config variable\n",
      "`--NotebookApp.iopub_data_rate_limit`.\n",
      "\n",
      "Current values:\n",
      "NotebookApp.iopub_data_rate_limit=1000000.0 (bytes/sec)\n",
      "NotebookApp.rate_limit_window=3.0 (secs)\n",
      "\n"
     ]
    }
   ],
   "source": [
    "import geojson\n",
    "features = []\n",
    "insert_features = lambda x: features.append(\n",
    "    geojson.Feature(geometry=geojson.LineString((x[\"lat\"],\n",
    "                                                 x[\"lon\"],\n",
    "                                                 x[\"elev\"])),\n",
    "                    properties=dict(times=x[\"timestamp\"], 'style': {'color' : row['color']},\n",
    "                'icon': 'circle',\n",
    "                'iconstyle':{\n",
    "                    'fillColor': row['color'],\n",
    "                    'fillOpacity': 0.8,\n",
    "                    'stroke': 'true',\n",
    "                    'radius': 7\n",
    "                })))\n",
    "\n",
    "sql_query.apply(insert_features, axis=1)\n",
    "\n",
    "print(geojson.FeatureCollection(features))\n",
    "with open('map1.geojson', 'w', encoding='utf8') as fp:\n",
    "    geojson.dump(geojson.FeatureCollection(features), fp, sort_keys=True, ensure_ascii=False)"
   ]
  },
  {
   "cell_type": "code",
   "execution_count": 80,
   "id": "32f805f1",
   "metadata": {},
   "outputs": [
    {
     "data": {
      "text/plain": [
       "{\"coordinates\": [[129.26215, 39.007409], [154.972965, -6.694012], [91.402371, -22.885289]], \"type\": \"LineString\"}"
      ]
     },
     "execution_count": 80,
     "metadata": {},
     "output_type": "execute_result"
    }
   ],
   "source": [
    "geojson.utils.generate_random(\"LineString\")"
   ]
  },
  {
   "cell_type": "code",
   "execution_count": null,
   "id": "fc6611a7",
   "metadata": {},
   "outputs": [],
   "source": [
    "import folium\n",
    "\n",
    "m = folium.Map([48.2, 16.4], zoom_start=10)\n",
    " \n",
    "folium.Choropleth(\n",
    "    graph[graph.geometry.length>0.001],\n",
    "    line_weight=3,\n",
    "    line_color='blue'\n",
    ").add_to(m)\n",
    " \n",
    "m"
   ]
  }
 ],
 "metadata": {
  "kernelspec": {
   "display_name": "Python 3",
   "language": "python",
   "name": "python3"
  },
  "language_info": {
   "codemirror_mode": {
    "name": "ipython",
    "version": 3
   },
   "file_extension": ".py",
   "mimetype": "text/x-python",
   "name": "python",
   "nbconvert_exporter": "python",
   "pygments_lexer": "ipython3",
   "version": "3.7.9"
  }
 },
 "nbformat": 4,
 "nbformat_minor": 5
}
